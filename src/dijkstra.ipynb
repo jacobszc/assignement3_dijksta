{
 "cells": [
  {
   "cell_type": "code",
   "execution_count": 1,
   "id": "a78119a9",
   "metadata": {},
   "outputs": [],
   "source": [
    "import pyspark"
   ]
  },
  {
   "cell_type": "code",
   "execution_count": 2,
   "id": "6d16491e-5919-4220-b0b2-fb5cbb7ed2b0",
   "metadata": {},
   "outputs": [],
   "source": [
    "from pyspark.sql import SparkSession\n",
    "from pyspark.sql.functions import *"
   ]
  },
  {
   "cell_type": "code",
   "execution_count": null,
   "id": "0435acce-7821-4316-a6f8-fafa211f05dc",
   "metadata": {},
   "outputs": [],
   "source": [
    "from pyspark import SparkContext\n",
    "from collections import defaultdict\n",
    "import heapq\n",
    "\n",
    "\n",
    "sc = SparkContext.getOrCreate()\n",
    "sc.setLogLevel(\"ERROR\")\n",
    "\n",
    "\n",
    "lines = sc.textFile(\"edges.txt\")\n",
    "\n",
    "\n",
    "edges = lines.map(lambda line: tuple(map(int, line.strip().split(\",\"))))\n",
    "\n",
    "# Build adjacency list (as a local dictionary)\n",
    "adj_list = defaultdict(list)\n",
    "for src, dst, weight in edges.collect():\n",
    "    adj_list[src].append((dst, weight))"
   ]
  },
  {
   "cell_type": "code",
   "execution_count": null,
   "id": "8c7fc257",
   "metadata": {},
   "outputs": [],
   "source": [
    "from collections import defaultdict\n",
    "\n",
    "def build_adjacency_list(edge_rdd):\n",
    "    adjacency = defaultdict(list)\n",
    "    for src, dst, weight in edge_rdd.collect():\n",
    "        adjacency[src].append((dst, weight))\n",
    "    return dict(adjacency)\n",
    "\n",
    "adj_list = build_adjacency_list(edges)"
   ]
  },
  {
   "cell_type": "code",
   "execution_count": null,
   "id": "1fccc441",
   "metadata": {},
   "outputs": [],
   "source": [
    "import heapq\n",
    "\n",
    "def dijkstra(graph, start_node):\n",
    "    min_heap = [(0, start_node)]  \n",
    "    distances = {start_node: 0}\n",
    "    visited = set()\n",
    "\n",
    "    while min_heap:\n",
    "        current_dist, current_node = heapq.heappop(min_heap)\n",
    "\n",
    "        if current_node in visited:\n",
    "            continue\n",
    "        visited.add(current_node)\n",
    "\n",
    "        for neighbor, weight in graph.get(current_node, []):\n",
    "            distance = current_dist + weight\n",
    "            if neighbor not in distances or distance < distances[neighbor]:\n",
    "                distances[neighbor] = distance\n",
    "                heapq.heappush(min_heap, (distance, neighbor))\n",
    "\n",
    "    return distances"
   ]
  },
  {
   "cell_type": "code",
   "execution_count": null,
   "id": "cc432f62",
   "metadata": {},
   "outputs": [],
   "source": [
    "shortest_paths = dijkstra(adj_list, 0)  # Start from node 0\n",
    "print(\"Shortest path from node 0:\")\n",
    "for node, dist in sorted(shortest_paths.items()):\n",
    "    print(f\" to node {node}: {dist}\")"
   ]
  },
  {
   "cell_type": "code",
   "execution_count": null,
   "id": "a2c96d50",
   "metadata": {},
   "outputs": [],
   "source": [
    "with open(\"output_1.txt\", \"w\") as f:\n",
    "    f.write(\"Shortest path from node 0:\\n\")\n",
    "    for node, dist in sorted(shortest_paths.items()):\n",
    "        f.write(f\"to node {node} the distance is: {dist}\\n\")"
   ]
  }
 ],
 "metadata": {
  "kernelspec": {
   "display_name": "Python (PySpark)",
   "language": "python",
   "name": "pyspark-env"
  },
  "language_info": {
   "codemirror_mode": {
    "name": "ipython",
    "version": 3
   },
   "file_extension": ".py",
   "mimetype": "text/x-python",
   "name": "python",
   "nbconvert_exporter": "python",
   "pygments_lexer": "ipython3",
   "version": "3.13.3"
  }
 },
 "nbformat": 4,
 "nbformat_minor": 5
}
