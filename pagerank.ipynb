{
 "cells": [
  {
   "cell_type": "code",
   "execution_count": 6,
   "id": "5542936c-f434-4f17-93dd-ee5fb708157a",
   "metadata": {
    "scrolled": true
   },
   "outputs": [
    {
     "name": "stdout",
     "output_type": "stream",
     "text": [
      "4.0.0\n"
     ]
    }
   ],
   "source": [
    "from pyspark.sql import SparkSession\n",
    "\n",
    "spark = SparkSession.builder.appName(\"PageRank\").getOrCreate()\n",
    "sc = spark.sparkContext\n",
    "print(spark.version)\n"
   ]
  },
  {
   "cell_type": "code",
   "execution_count": 7,
   "id": "590543ba-7b7c-4ec6-9517-a4cf8e9487c4",
   "metadata": {},
   "outputs": [
    {
     "data": {
      "text/plain": [
       "[(0, [94, 53, 69, 76, 14, 49, 75, 66, 6]),\n",
       " (1, [27, 45, 50, 93, 4, 31, 58, 86]),\n",
       " (2, [85, 5, 21, 92, 74]),\n",
       " (3, [62, 24, 13, 49, 14, 82]),\n",
       " (4, [5, 59, 88, 49, 13, 51, 55, 73, 91])]"
      ]
     },
     "execution_count": 7,
     "metadata": {},
     "output_type": "execute_result"
    }
   ],
   "source": [
    "lines = sc.textFile(\"question2.txt\")\n",
    "links = lines.map(lambda x: x.split(\":\")).map(lambda x: (int(x[0]), [int(i) for i in eval(x[1])]))\n",
    "links = links.cache()\n",
    "links.take(5)"
   ]
  },
  {
   "cell_type": "code",
   "execution_count": 8,
   "id": "de2d9bc2-fdfe-4cae-98be-61a2f161d484",
   "metadata": {},
   "outputs": [
    {
     "name": "stdout",
     "output_type": "stream",
     "text": [
      "Node 76 has rank: 1.3465\n",
      "Node 88 has rank: 0.8742\n",
      "Node 72 has rank: 0.9569\n",
      "Node 96 has rank: 0.3415\n",
      "Node 52 has rank: 0.8323\n",
      "Node 80 has rank: 1.0348\n",
      "Node 32 has rank: 0.1982\n",
      "Node 24 has rank: 1.2106\n",
      "Node 0 has rank: 0.9732\n",
      "Node 28 has rank: 0.8270\n"
     ]
    }
   ],
   "source": [
    "links = links.partitionBy(4).cache()\n",
    "ranks = links.mapValues(lambda _: 1.0)\n",
    "\n",
    "for iteration in range(10):\n",
    "    contribs = links.join(ranks).flatMap(\n",
    "        lambda node_neighbors_rank: [\n",
    "            (neighbor, node_neighbors_rank[1][1] / len(node_neighbors_rank[1][0]))\n",
    "            for neighbor in node_neighbors_rank[1][0]\n",
    "        ]\n",
    "    )\n",
    "    ranks = contribs.reduceByKey(lambda x, y: x + y).mapValues(lambda rank: 0.15 + 0.85 * rank)\n",
    "\n",
    "output = ranks.collect()\n",
    "for (node, rank) in output[:10]:\n",
    "    print(f\"Node {node} has rank: {rank:.4f}\")\n",
    "\n"
   ]
  },
  {
   "cell_type": "code",
   "execution_count": 9,
   "id": "88f03ffb-11e6-4925-9a41-c4a8fe8256b2",
   "metadata": {},
   "outputs": [
    {
     "name": "stdout",
     "output_type": "stream",
     "text": [
      "Highest rank: Node 86 with rank 2.8297\n",
      "Lowest rank: Node 47 with rank 0.1745\n"
     ]
    }
   ],
   "source": [
    "max_node = max(output, key=lambda x: x[1])\n",
    "min_node = min(output, key=lambda x: x[1])\n",
    "\n",
    "print(f\"Highest rank: Node {max_node[0]} with rank {max_node[1]:.4f}\")\n",
    "print(f\"Lowest rank: Node {min_node[0]} with rank {min_node[1]:.4f}\")"
   ]
  },
  {
   "cell_type": "code",
   "execution_count": null,
   "id": "c368fc9b-0f0c-46a6-9886-4407bcd4567c",
   "metadata": {},
   "outputs": [],
   "source": []
  }
 ],
 "metadata": {
  "kernelspec": {
   "display_name": "Python 3 (ipykernel)",
   "language": "python",
   "name": "python3"
  },
  "language_info": {
   "codemirror_mode": {
    "name": "ipython",
    "version": 3
   },
   "file_extension": ".py",
   "mimetype": "text/x-python",
   "name": "python",
   "nbconvert_exporter": "python",
   "pygments_lexer": "ipython3",
   "version": "3.13.4"
  }
 },
 "nbformat": 4,
 "nbformat_minor": 5
}
