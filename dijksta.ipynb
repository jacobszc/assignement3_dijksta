{
 "cells": [
  {
   "cell_type": "code",
   "execution_count": 1,
   "id": "5c95bc24",
   "metadata": {},
   "outputs": [],
   "source": [
    "import pyspark"
   ]
  },
  {
   "cell_type": "code",
   "execution_count": 2,
   "id": "f32a5479",
   "metadata": {},
   "outputs": [],
   "source": [
    "from pyspark.sql import SparkSession\n",
    "from pyspark.sql.functions import *"
   ]
  },
  {
   "cell_type": "code",
   "execution_count": 1,
   "id": "6020032f",
   "metadata": {},
   "outputs": [
    {
     "name": "stderr",
     "output_type": "stream",
     "text": [
      "WARNING: Using incubator modules: jdk.incubator.vector\n",
      "Using Spark's default log4j profile: org/apache/spark/log4j2-defaults.properties\n",
      "25/06/28 16:01:06 WARN Utils: Your hostname, Jakes, resolves to a loopback address: 127.0.1.1; using 10.255.255.254 instead (on interface lo)\n",
      "25/06/28 16:01:06 WARN Utils: Set SPARK_LOCAL_IP if you need to bind to another address\n",
      "Using Spark's default log4j profile: org/apache/spark/log4j2-defaults.properties\n",
      "Setting default log level to \"WARN\".\n",
      "To adjust logging level use sc.setLogLevel(newLevel). For SparkR, use setLogLevel(newLevel).\n",
      "25/06/28 16:01:07 WARN NativeCodeLoader: Unable to load native-hadoop library for your platform... using builtin-java classes where applicable\n",
      "                                                                                \r"
     ]
    }
   ],
   "source": [
    "from pyspark import SparkContext\n",
    "from collections import defaultdict\n",
    "import heapq\n",
    "\n",
    "# Initialize Spark\n",
    "sc = SparkContext.getOrCreate()\n",
    "sc.setLogLevel(\"ERROR\")\n",
    "\n",
    "# Read the file\n",
    "lines = sc.textFile(\"edges.txt\")\n",
    "\n",
    "# Parse into (src, dest, weight) tuples\n",
    "edges = lines.map(lambda line: tuple(map(int, line.strip().split(\",\"))))\n",
    "\n",
    "# Build adjacency list (as a local dictionary)\n",
    "adj_list = defaultdict(list)\n",
    "for src, dst, weight in edges.collect():\n",
    "    adj_list[src].append((dst, weight))"
   ]
  },
  {
   "cell_type": "code",
   "execution_count": 2,
   "id": "32577d60",
   "metadata": {},
   "outputs": [],
   "source": [
    "from collections import defaultdict\n",
    "\n",
    "def build_adjacency_list(edge_rdd):\n",
    "    adjacency = defaultdict(list)\n",
    "    for src, dst, weight in edge_rdd.collect():\n",
    "        adjacency[src].append((dst, weight))\n",
    "    return dict(adjacency)\n",
    "\n",
    "adj_list = build_adjacency_list(edges)"
   ]
  },
  {
   "cell_type": "code",
   "execution_count": null,
   "id": "6b97a113",
   "metadata": {},
   "outputs": [],
   "source": [
    "import heapq\n",
    "\n",
    "def dijkstra(graph, start_node):\n",
    "    min_heap = [(0, start_node)]  \n",
    "    distances = {start_node: 0}\n",
    "    visited = set()\n",
    "\n",
    "    while min_heap:\n",
    "        current_dist, current_node = heapq.heappop(min_heap)\n",
    "\n",
    "        if current_node in visited:\n",
    "            continue\n",
    "        visited.add(current_node)\n",
    "\n",
    "        for neighbor, weight in graph.get(current_node, []):\n",
    "            distance = current_dist + weight\n",
    "            if neighbor not in distances or distance < distances[neighbor]:\n",
    "                distances[neighbor] = distance\n",
    "                heapq.heappush(min_heap, (distance, neighbor))\n",
    "\n",
    "    return distances"
   ]
  },
  {
   "cell_type": "code",
   "execution_count": null,
   "id": "715f365d",
   "metadata": {},
   "outputs": [
    {
     "name": "stdout",
     "output_type": "stream",
     "text": [
      "Shortest paths from node 0:\n",
      " to node 0: 0\n",
      " to node 1: 2\n",
      " to node 2: 3\n",
      " to node 3: 4\n",
      " to node 4: 3\n"
     ]
    }
   ],
   "source": [
    "shortest_paths = dijkstra(adj_list, 0)  # Start from node 0\n",
    "print(\"Shortest path from node 0:\")\n",
    "for node, dist in sorted(shortest_paths.items()):\n",
    "    print(f\" to node {node}: {dist}\")"
   ]
  },
  {
   "cell_type": "code",
   "execution_count": null,
   "id": "09c81a1a",
   "metadata": {},
   "outputs": [],
   "source": [
    "with open(\"output_1.txt\", \"w\") as f:\n",
    "    f.write(\"Shortest path from node 0:\\n\")\n",
    "    for node, dist in sorted(shortest_paths.items()):\n",
    "        f.write(f\"to node {node} the distance is: {dist}\\n\")"
   ]
  },
  {
   "cell_type": "code",
   "execution_count": null,
   "id": "fbc06bc6",
   "metadata": {},
   "outputs": [],
   "source": []
  }
 ],
 "metadata": {
  "kernelspec": {
   "display_name": "Python (WSL)",
   "language": "python",
   "name": "wsl-python"
  },
  "language_info": {
   "codemirror_mode": {
    "name": "ipython",
    "version": 3
   },
   "file_extension": ".py",
   "mimetype": "text/x-python",
   "name": "python",
   "nbconvert_exporter": "python",
   "pygments_lexer": "ipython3",
   "version": "3.10.12"
  }
 },
 "nbformat": 4,
 "nbformat_minor": 5
}
